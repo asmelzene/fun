{
 "cells": [
  {
   "cell_type": "code",
   "execution_count": 1,
   "metadata": {},
   "outputs": [
    {
     "name": "stdout",
     "output_type": "stream",
     "text": [
      "2020-04-14 12:10:22.750729\n",
      "At which attempt the solution found: 507599\n",
      "[4 2 1 0 1 0 0 0]\n",
      "correct_values: [1 1 1 1 1 1 1 1]\n",
      "Calculation time: 0:00:08.807674\n"
     ]
    }
   ],
   "source": [
    "'''\n",
    "It's a 5 digit number where \n",
    "\n",
    "1st digit denotes how many zeroes are there in the number\n",
    "2nd digit denotes how many ones are there in the number\n",
    "3rd digit denotes how many twos are there in the number\n",
    "4th digit denotes how many threes are there in the number\n",
    "5th digit denotes how many fours are there in the number\n",
    "\n",
    "Can you guess the number?\n",
    "'''\n",
    "\n",
    "import numpy as np\n",
    "import datetime\n",
    "\n",
    "i = 0\n",
    "n = 8 # Note: it finds the solution for 4, 5, 7 digits. for other digits, either there's no solution \n",
    "# or there should be a better way to code\n",
    "test = np.random.randint(0, n - 1, n)\n",
    "# the experiment for digits 4, 5, 7 and 8 shows that the max number is n/2+1 for any digit, \n",
    "# so no need to create a random number with the max value (n - 1) as earlier done. n/2+1 should be sufficient.\n",
    "#test = np.random.randint(0, int(n/2) + 2, n)\n",
    "all_values = np.zeros(n, dtype=int)\n",
    "#print(test)\n",
    "\n",
    "power_limit = np.power(n, n)\n",
    "manual_limit = 20000000\n",
    "test_limit = (manual_limit if power_limit > manual_limit else power_limit)\n",
    "#print(int(n/2))\n",
    "\n",
    "starttime = datetime.datetime.now()\n",
    "print(datetime.datetime.now())\n",
    "\n",
    "while i < test_limit:\n",
    "    correct_values = np.zeros(n, dtype=int)\n",
    "    # having the below check is too much costly when the digit>7, so it will be commented out. \n",
    "    # should only be used if n < 8\n",
    "    #all_values=np.append(all_values, test)\n",
    "    \n",
    "    i += 1\n",
    "    for j in range(n):\n",
    "        if np.count_nonzero(test == j) == test[j]:\n",
    "            correct_values[j] = 1\n",
    "        else:\n",
    "            break\n",
    "            \n",
    "    if np.count_nonzero(correct_values == 1) == n:\n",
    "        print(\"At which attempt the solution found: \" + str(i))\n",
    "        print(test)\n",
    "        break\n",
    "    \n",
    "    # to have an idea how fast/slow is the process and where we are, how far to the final test\n",
    "    if i % int(test_limit/n) == 0:\n",
    "        print(\"Total numbers have been tested until now: \", i)\n",
    "        print(\"Total numbers will be tested if no solution is found: \", test_limit)\n",
    "        print(\"So {}% of the test is done in the worst case.\".format(i/test_limit*100))\n",
    "        print(datetime.datetime.now())\n",
    "    \n",
    "    #test = np.random.randint(0, n - 1, n)\n",
    "    test = np.random.randint(0, int(n/2) + 1, n)\n",
    "    #print(test)\n",
    "    \n",
    "# should only be used if n < 8\n",
    "#all_values_shaped=all_values.reshape(int(len(all_values)/n), n)\n",
    "\n",
    "endtime = datetime.datetime.now()\n",
    "\n",
    "# should only be used if n < 8\n",
    "#print('Unique random arrays generated: ' + str(len(np.unique(all_values_shaped, axis=0))))\n",
    "print('correct_values: ' + str(correct_values))\n",
    "print('Calculation time: ' + str(endtime - starttime))"
   ]
  }
 ],
 "metadata": {
  "kernelspec": {
   "display_name": "Python 3",
   "language": "python",
   "name": "python3"
  },
  "language_info": {
   "codemirror_mode": {
    "name": "ipython",
    "version": 3
   },
   "file_extension": ".py",
   "mimetype": "text/x-python",
   "name": "python",
   "nbconvert_exporter": "python",
   "pygments_lexer": "ipython3",
   "version": "3.7.4"
  }
 },
 "nbformat": 4,
 "nbformat_minor": 2
}
