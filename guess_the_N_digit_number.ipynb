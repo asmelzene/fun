{
 "cells": [
  {
   "cell_type": "code",
   "execution_count": 1,
   "metadata": {},
   "outputs": [
    {
     "name": "stdout",
     "output_type": "stream",
     "text": [
      "At which attempt the solution found: 164237\n",
      "[3 2 1 1 0 0 0]\n",
      "Unique random arrays generated: 124611\n",
      "correct_values: [1 1 1 1 1 1 1]\n"
     ]
    }
   ],
   "source": [
    "'''\n",
    "It's a 5 digit number where \n",
    "\n",
    "1st digit denotes how many zeroes are there in the number\n",
    "2nd digit denotes how many ones are there in the number\n",
    "3rd digit denotes how many twos are there in the number\n",
    "4th digit denotes how many threes are there in the number\n",
    "5th digit denotes how many fours are there in the number\n",
    "\n",
    "Can you guess the number?\n",
    "'''\n",
    "\n",
    "import numpy as np\n",
    "\n",
    "i = 0\n",
    "n = 7 # Note: it finds the solution for 4, 5, 7 digits. for other digits, either there's no solution \n",
    "# or there should be a better way to code\n",
    "test = np.random.randint(0, n - 1, n)\n",
    "all_values = np.zeros(n, dtype=int)\n",
    "\n",
    "power_limit = np.power(n, n)\n",
    "test_limit = (250000 if power_limit > 250000 else power_limit)\n",
    "\n",
    "while i < test_limit:\n",
    "    correct_values = np.zeros(n, dtype=int)\n",
    "    all_values=np.append(all_values, test)\n",
    "    \n",
    "    i+=1\n",
    "    for j in range(n):\n",
    "        if np.count_nonzero(test == j) == test[j]:\n",
    "            correct_values[j] = 1\n",
    "        else:\n",
    "            break\n",
    "            \n",
    "    if np.count_nonzero(correct_values == 1) == n:\n",
    "        print(\"At which attempt the solution found: \" + str(i))\n",
    "        print(test)\n",
    "        break\n",
    "    \n",
    "    test = np.random.randint(0, n - 1, n)\n",
    "    \n",
    "all_values_shaped=all_values.reshape(int(len(all_values)/n), n)\n",
    "print('Unique random arrays generated: ' + str(len(np.unique(all_values_shaped, axis=0))))\n",
    "print('correct_values: ' + str(correct_values))"
   ]
  }
 ],
 "metadata": {
  "kernelspec": {
   "display_name": "Python 3",
   "language": "python",
   "name": "python3"
  },
  "language_info": {
   "codemirror_mode": {
    "name": "ipython",
    "version": 3
   },
   "file_extension": ".py",
   "mimetype": "text/x-python",
   "name": "python",
   "nbconvert_exporter": "python",
   "pygments_lexer": "ipython3",
   "version": "3.7.4"
  }
 },
 "nbformat": 4,
 "nbformat_minor": 2
}
